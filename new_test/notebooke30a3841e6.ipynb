{
 "cells": [
  {
   "cell_type": "code",
   "execution_count": 1,
   "id": "a8f97722",
   "metadata": {
    "_cell_guid": "b1076dfc-b9ad-4769-8c92-a6c4dae69d19",
    "_uuid": "8f2839f25d086af736a60e9eeb907d3b93b6e0e5",
    "execution": {
     "iopub.execute_input": "2024-07-09T16:13:28.070690Z",
     "iopub.status.busy": "2024-07-09T16:13:28.070315Z",
     "iopub.status.idle": "2024-07-09T16:13:28.917554Z",
     "shell.execute_reply": "2024-07-09T16:13:28.916363Z"
    },
    "papermill": {
     "duration": 0.854975,
     "end_time": "2024-07-09T16:13:28.920328",
     "exception": false,
     "start_time": "2024-07-09T16:13:28.065353",
     "status": "completed"
    },
    "tags": []
   },
   "outputs": [
    {
     "name": "stdout",
     "output_type": "stream",
     "text": [
      "/kaggle/input/playground-series-s4e7/sample_submission.csv\n",
      "/kaggle/input/playground-series-s4e7/train.csv\n",
      "/kaggle/input/playground-series-s4e7/test.csv\n"
     ]
    }
   ],
   "source": [
    "# This Python 3 environment comes with many helpful analytics libraries installed\n",
    "# It is defined by the kaggle/python Docker image: https://github.com/kaggle/docker-python\n",
    "# For example, here's several helpful packages to load\n",
    "\n",
    "import numpy as np # linear algebra\n",
    "import pandas as pd # data processing, CSV file I/O (e.g. pd.read_csv)\n",
    "\n",
    "# Input data files are available in the read-only \"../input/\" directory\n",
    "# For example, running this (by clicking run or pressing Shift+Enter) will list all files under the input directory\n",
    "\n",
    "import os\n",
    "for dirname, _, filenames in os.walk('/kaggle/input'):\n",
    "    for filename in filenames:\n",
    "        print(os.path.join(dirname, filename))\n",
    "\n",
    "# You can write up to 20GB to the current directory (/kaggle/working/) that gets preserved as output when you create a version using \"Save & Run All\" \n",
    "# You can also write temporary files to /kaggle/temp/, but they won't be saved outside of the current session"
   ]
  },
  {
   "cell_type": "code",
   "execution_count": 2,
   "id": "6179c2a0",
   "metadata": {
    "execution": {
     "iopub.execute_input": "2024-07-09T16:13:28.929376Z",
     "iopub.status.busy": "2024-07-09T16:13:28.928160Z",
     "iopub.status.idle": "2024-07-09T16:13:29.981593Z",
     "shell.execute_reply": "2024-07-09T16:13:29.980125Z"
    },
    "papermill": {
     "duration": 1.060376,
     "end_time": "2024-07-09T16:13:29.984182",
     "exception": false,
     "start_time": "2024-07-09T16:13:28.923806",
     "status": "completed"
    },
    "tags": []
   },
   "outputs": [
    {
     "name": "stdout",
     "output_type": "stream",
     "text": [
      "/kaggle/working\r\n"
     ]
    }
   ],
   "source": [
    "!pwd"
   ]
  },
  {
   "cell_type": "code",
   "execution_count": 3,
   "id": "0b9ae0f6",
   "metadata": {
    "execution": {
     "iopub.execute_input": "2024-07-09T16:13:29.992070Z",
     "iopub.status.busy": "2024-07-09T16:13:29.991682Z",
     "iopub.status.idle": "2024-07-09T16:13:29.996814Z",
     "shell.execute_reply": "2024-07-09T16:13:29.995781Z"
    },
    "papermill": {
     "duration": 0.011798,
     "end_time": "2024-07-09T16:13:29.999065",
     "exception": false,
     "start_time": "2024-07-09T16:13:29.987267",
     "status": "completed"
    },
    "tags": []
   },
   "outputs": [],
   "source": [
    "#/kaggle/input/playground-series-s4e7/train.csv"
   ]
  },
  {
   "cell_type": "code",
   "execution_count": 4,
   "id": "33e395d9",
   "metadata": {
    "execution": {
     "iopub.execute_input": "2024-07-09T16:13:30.007496Z",
     "iopub.status.busy": "2024-07-09T16:13:30.006448Z",
     "iopub.status.idle": "2024-07-09T16:13:31.061429Z",
     "shell.execute_reply": "2024-07-09T16:13:31.060244Z"
    },
    "papermill": {
     "duration": 1.061866,
     "end_time": "2024-07-09T16:13:31.064063",
     "exception": false,
     "start_time": "2024-07-09T16:13:30.002197",
     "status": "completed"
    },
    "tags": []
   },
   "outputs": [
    {
     "name": "stdout",
     "output_type": "stream",
     "text": [
      "sample_submission.csv  test.csv  train.csv\r\n"
     ]
    }
   ],
   "source": [
    "!ls /kaggle/input/*/"
   ]
  },
  {
   "cell_type": "code",
   "execution_count": 5,
   "id": "a894c37e",
   "metadata": {
    "execution": {
     "iopub.execute_input": "2024-07-09T16:13:31.073090Z",
     "iopub.status.busy": "2024-07-09T16:13:31.072650Z",
     "iopub.status.idle": "2024-07-09T16:13:50.739262Z",
     "shell.execute_reply": "2024-07-09T16:13:50.738348Z"
    },
    "papermill": {
     "duration": 19.6742,
     "end_time": "2024-07-09T16:13:50.741774",
     "exception": false,
     "start_time": "2024-07-09T16:13:31.067574",
     "status": "completed"
    },
    "tags": []
   },
   "outputs": [],
   "source": [
    "import pandas as pd\n",
    "\n",
    "df = pd.read_csv('/kaggle/input/playground-series-s4e7/train.csv')"
   ]
  },
  {
   "cell_type": "code",
   "execution_count": 6,
   "id": "f7f1d44d",
   "metadata": {
    "execution": {
     "iopub.execute_input": "2024-07-09T16:13:50.749992Z",
     "iopub.status.busy": "2024-07-09T16:13:50.749306Z",
     "iopub.status.idle": "2024-07-09T16:13:50.776579Z",
     "shell.execute_reply": "2024-07-09T16:13:50.775525Z"
    },
    "papermill": {
     "duration": 0.033994,
     "end_time": "2024-07-09T16:13:50.779011",
     "exception": false,
     "start_time": "2024-07-09T16:13:50.745017",
     "status": "completed"
    },
    "tags": []
   },
   "outputs": [
    {
     "data": {
      "text/html": [
       "<div>\n",
       "<style scoped>\n",
       "    .dataframe tbody tr th:only-of-type {\n",
       "        vertical-align: middle;\n",
       "    }\n",
       "\n",
       "    .dataframe tbody tr th {\n",
       "        vertical-align: top;\n",
       "    }\n",
       "\n",
       "    .dataframe thead th {\n",
       "        text-align: right;\n",
       "    }\n",
       "</style>\n",
       "<table border=\"1\" class=\"dataframe\">\n",
       "  <thead>\n",
       "    <tr style=\"text-align: right;\">\n",
       "      <th></th>\n",
       "      <th>id</th>\n",
       "      <th>Gender</th>\n",
       "      <th>Age</th>\n",
       "      <th>Driving_License</th>\n",
       "      <th>Region_Code</th>\n",
       "      <th>Previously_Insured</th>\n",
       "      <th>Vehicle_Age</th>\n",
       "      <th>Vehicle_Damage</th>\n",
       "      <th>Annual_Premium</th>\n",
       "      <th>Policy_Sales_Channel</th>\n",
       "      <th>Vintage</th>\n",
       "      <th>Response</th>\n",
       "    </tr>\n",
       "  </thead>\n",
       "  <tbody>\n",
       "    <tr>\n",
       "      <th>0</th>\n",
       "      <td>0</td>\n",
       "      <td>Male</td>\n",
       "      <td>21</td>\n",
       "      <td>1</td>\n",
       "      <td>35.0</td>\n",
       "      <td>0</td>\n",
       "      <td>1-2 Year</td>\n",
       "      <td>Yes</td>\n",
       "      <td>65101.0</td>\n",
       "      <td>124.0</td>\n",
       "      <td>187</td>\n",
       "      <td>0</td>\n",
       "    </tr>\n",
       "    <tr>\n",
       "      <th>1</th>\n",
       "      <td>1</td>\n",
       "      <td>Male</td>\n",
       "      <td>43</td>\n",
       "      <td>1</td>\n",
       "      <td>28.0</td>\n",
       "      <td>0</td>\n",
       "      <td>&gt; 2 Years</td>\n",
       "      <td>Yes</td>\n",
       "      <td>58911.0</td>\n",
       "      <td>26.0</td>\n",
       "      <td>288</td>\n",
       "      <td>1</td>\n",
       "    </tr>\n",
       "    <tr>\n",
       "      <th>2</th>\n",
       "      <td>2</td>\n",
       "      <td>Female</td>\n",
       "      <td>25</td>\n",
       "      <td>1</td>\n",
       "      <td>14.0</td>\n",
       "      <td>1</td>\n",
       "      <td>&lt; 1 Year</td>\n",
       "      <td>No</td>\n",
       "      <td>38043.0</td>\n",
       "      <td>152.0</td>\n",
       "      <td>254</td>\n",
       "      <td>0</td>\n",
       "    </tr>\n",
       "    <tr>\n",
       "      <th>3</th>\n",
       "      <td>3</td>\n",
       "      <td>Female</td>\n",
       "      <td>35</td>\n",
       "      <td>1</td>\n",
       "      <td>1.0</td>\n",
       "      <td>0</td>\n",
       "      <td>1-2 Year</td>\n",
       "      <td>Yes</td>\n",
       "      <td>2630.0</td>\n",
       "      <td>156.0</td>\n",
       "      <td>76</td>\n",
       "      <td>0</td>\n",
       "    </tr>\n",
       "    <tr>\n",
       "      <th>4</th>\n",
       "      <td>4</td>\n",
       "      <td>Female</td>\n",
       "      <td>36</td>\n",
       "      <td>1</td>\n",
       "      <td>15.0</td>\n",
       "      <td>1</td>\n",
       "      <td>1-2 Year</td>\n",
       "      <td>No</td>\n",
       "      <td>31951.0</td>\n",
       "      <td>152.0</td>\n",
       "      <td>294</td>\n",
       "      <td>0</td>\n",
       "    </tr>\n",
       "  </tbody>\n",
       "</table>\n",
       "</div>"
      ],
      "text/plain": [
       "   id  Gender  Age  Driving_License  Region_Code  Previously_Insured  \\\n",
       "0   0    Male   21                1         35.0                   0   \n",
       "1   1    Male   43                1         28.0                   0   \n",
       "2   2  Female   25                1         14.0                   1   \n",
       "3   3  Female   35                1          1.0                   0   \n",
       "4   4  Female   36                1         15.0                   1   \n",
       "\n",
       "  Vehicle_Age Vehicle_Damage  Annual_Premium  Policy_Sales_Channel  Vintage  \\\n",
       "0    1-2 Year            Yes         65101.0                 124.0      187   \n",
       "1   > 2 Years            Yes         58911.0                  26.0      288   \n",
       "2    < 1 Year             No         38043.0                 152.0      254   \n",
       "3    1-2 Year            Yes          2630.0                 156.0       76   \n",
       "4    1-2 Year             No         31951.0                 152.0      294   \n",
       "\n",
       "   Response  \n",
       "0         0  \n",
       "1         1  \n",
       "2         0  \n",
       "3         0  \n",
       "4         0  "
      ]
     },
     "execution_count": 6,
     "metadata": {},
     "output_type": "execute_result"
    }
   ],
   "source": [
    "df.head()"
   ]
  },
  {
   "cell_type": "code",
   "execution_count": null,
   "id": "79d0f565",
   "metadata": {
    "papermill": {
     "duration": 0.003086,
     "end_time": "2024-07-09T16:13:50.785595",
     "exception": false,
     "start_time": "2024-07-09T16:13:50.782509",
     "status": "completed"
    },
    "tags": []
   },
   "outputs": [],
   "source": []
  },
  {
   "cell_type": "code",
   "execution_count": null,
   "id": "33a891c0",
   "metadata": {
    "papermill": {
     "duration": 0.003053,
     "end_time": "2024-07-09T16:13:50.792102",
     "exception": false,
     "start_time": "2024-07-09T16:13:50.789049",
     "status": "completed"
    },
    "tags": []
   },
   "outputs": [],
   "source": []
  },
  {
   "cell_type": "code",
   "execution_count": null,
   "id": "6d95c79a",
   "metadata": {
    "papermill": {
     "duration": 0.003083,
     "end_time": "2024-07-09T16:13:50.798523",
     "exception": false,
     "start_time": "2024-07-09T16:13:50.795440",
     "status": "completed"
    },
    "tags": []
   },
   "outputs": [],
   "source": []
  }
 ],
 "metadata": {
  "kaggle": {
   "accelerator": "none",
   "dataSources": [
    {
     "databundleVersionId": 8930475,
     "sourceId": 73291,
     "sourceType": "competition"
    }
   ],
   "dockerImageVersionId": 30732,
   "isGpuEnabled": false,
   "isInternetEnabled": true,
   "language": "python",
   "sourceType": "notebook"
  },
  "kernelspec": {
   "display_name": "Python 3",
   "language": "python",
   "name": "python3"
  },
  "language_info": {
   "codemirror_mode": {
    "name": "ipython",
    "version": 3
   },
   "file_extension": ".py",
   "mimetype": "text/x-python",
   "name": "python",
   "nbconvert_exporter": "python",
   "pygments_lexer": "ipython3",
   "version": "3.10.13"
  },
  "papermill": {
   "default_parameters": {},
   "duration": 26.098019,
   "end_time": "2024-07-09T16:13:51.422754",
   "environment_variables": {},
   "exception": null,
   "input_path": "__notebook__.ipynb",
   "output_path": "__notebook__.ipynb",
   "parameters": {},
   "start_time": "2024-07-09T16:13:25.324735",
   "version": "2.5.0"
  }
 },
 "nbformat": 4,
 "nbformat_minor": 5
}
